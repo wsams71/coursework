{
 "cells": [
  {
   "cell_type": "markdown",
   "id": "ae646551-6f73-4fd4-82f1-01a11355943c",
   "metadata": {},
   "source": [
    "# Data Science Tools and Ecosystem"
   ]
  },
  {
   "cell_type": "markdown",
   "id": "9259ee3f-9d53-418d-a63e-2f08c64e2a29",
   "metadata": {},
   "source": [
    "In this notebook, Data Science Tools and Ecosystem are summarized."
   ]
  },
  {
   "cell_type": "markdown",
   "id": "40ead6b3-4d62-459f-9a1a-1196504abb6d",
   "metadata": {},
   "source": [
    "Some of the popular languages that Data Scientist use are:\n",
    "1. Python\n",
    "2. R\n",
    "3. SQL"
   ]
  },
  {
   "cell_type": "markdown",
   "id": "52f6a768-2bc2-49e9-9a0e-2375f764ed2d",
   "metadata": {},
   "source": [
    "Some of the commonly used libraries used by Data Scientists include:\n",
    "1. Pandas\n",
    "2. Tensorflow\n",
    "3. NumPy\n"
   ]
  },
  {
   "cell_type": "markdown",
   "id": "4a7360a2-da52-4663-abae-1c118f7b1fca",
   "metadata": {},
   "source": [
    "| Data Science Tools |\n",
    "| ------------------ |\n",
    "| Jupyter Notebooks|\n",
    "| Google Colab|\n",
    "| Visual Studio Code |"
   ]
  },
  {
   "cell_type": "markdown",
   "id": "1566b6e6-f20e-4b19-9370-89537cf8dbcb",
   "metadata": {
    "tags": []
   },
   "source": [
    "### Below are a few examples of evaluating arithmetic expressions in Python"
   ]
  },
  {
   "cell_type": "code",
   "execution_count": 5,
   "id": "bd48ba66-e124-4f07-9eeb-ba00ace892bb",
   "metadata": {
    "tags": []
   },
   "outputs": [
    {
     "data": {
      "text/plain": [
       "17"
      ]
     },
     "execution_count": 5,
     "metadata": {},
     "output_type": "execute_result"
    }
   ],
   "source": [
    "#This simple arithmetic expression to multiply then add integers.\n",
    "\n",
    "(3*4)+5"
   ]
  },
  {
   "cell_type": "code",
   "execution_count": 6,
   "id": "b2f94a32-60d2-4b25-b2f3-70716cfee7c8",
   "metadata": {
    "tags": []
   },
   "outputs": [
    {
     "data": {
      "text/plain": [
       "3.3333333333333335"
      ]
     },
     "execution_count": 6,
     "metadata": {},
     "output_type": "execute_result"
    }
   ],
   "source": [
    "#This will convert 200 minutes to hours by dividing by 60\n",
    "200/60"
   ]
  },
  {
   "cell_type": "markdown",
   "id": "dc8353f5-fa49-402c-b6cd-0bfde08641fe",
   "metadata": {},
   "source": [
    "*Objectives:*\n",
    "- List popular languages for Data Science\n",
    "- List commonly used libraries used by Data Scientists\n",
    "- List some popular open-source data science tools\n",
    "- Create markdown cells with commonly-used formatting for annotations\n",
    "- Create code cells to evaluate arithmetic expressions in Python\n"
   ]
  },
  {
   "cell_type": "markdown",
   "id": "39c0a211-a061-46fa-8647-4375e2094057",
   "metadata": {},
   "source": [
    "## Author\n",
    "\n",
    "Wendi Sams"
   ]
  },
  {
   "cell_type": "raw",
   "id": "5591fdee-1af3-4c2f-a4f8-8e83fe8e661f",
   "metadata": {},
   "source": []
  },
  {
   "cell_type": "code",
   "execution_count": null,
   "id": "e17a5576-1a59-45b5-916b-ecc6d901c3cd",
   "metadata": {},
   "outputs": [],
   "source": []
  }
 ],
 "metadata": {
  "kernelspec": {
   "display_name": "Python",
   "language": "python",
   "name": "conda-env-python-py"
  },
  "language_info": {
   "codemirror_mode": {
    "name": "ipython",
    "version": 3
   },
   "file_extension": ".py",
   "mimetype": "text/x-python",
   "name": "python",
   "nbconvert_exporter": "python",
   "pygments_lexer": "ipython3",
   "version": "3.7.12"
  }
 },
 "nbformat": 4,
 "nbformat_minor": 5
}
